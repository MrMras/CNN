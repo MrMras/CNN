{
 "cells": [
  {
   "cell_type": "code",
   "execution_count": null,
   "metadata": {},
   "outputs": [],
   "source": [
    "import cv2\n",
    "import numpy as np\n",
    "import os\n",
    "import random\n",
    "import torch\n",
    "import config\n",
    "\n",
    "from model_structure import UNet"
   ]
  },
  {
   "cell_type": "code",
   "execution_count": null,
   "metadata": {},
   "outputs": [],
   "source": [
    "# Load the PyTorch model\n",
    "model = UNet()\n",
    "model.load_state_dict(torch.load(\"./model_for_vasc.pth\", map_location=\"cpu\"))\n",
    "\n",
    "# Set the model to evaluation mode\n",
    "model.eval()\n",
    "\n",
    "# Directory paths for input and output data\n",
    "input_dir = \"./dataset/indata\"\n",
    "output_dir = \"./dataset/outdata\"\n",
    "\n",
    "# Get a list of image files in the input directory\n",
    "image_files = os.listdir(input_dir)"
   ]
  },
  {
   "cell_type": "code",
   "execution_count": null,
   "metadata": {},
   "outputs": [],
   "source": [
    "# Choose a random pair of input and output files\n",
    "random_image_file = random.choice(image_files)\n",
    "\n",
    "# Construct the full file paths\n",
    "input_image_path = os.path.join(input_dir, random_image_file)\n",
    "output_label_path = os.path.join(output_dir, random_image_file)\n",
    "\n",
    "# Check if the corresponding label file exists\n",
    "if not os.path.exists(output_label_path):\n",
    "    print(f\"Label file for {random_image_file} not found.\")\n",
    "else:\n",
    "    # Load the input image using OpenCV in grayscale mode\n",
    "    input_image = cv2.imread(input_image_path, cv2.IMREAD_GRAYSCALE)\n",
    "\n",
    "    # Load the label image using OpenCV\n",
    "    label_image = cv2.imread(output_label_path, cv2.IMREAD_GRAYSCALE)\n",
    "\n",
    "    # Perform inference using the model\n",
    "    with torch.no_grad():\n",
    "        input_tensor = torch.from_numpy(input_image).unsqueeze(0).float()\n",
    "        output = model(input_tensor)\n",
    "\n",
    "    # Convert the output tensor to a NumPy array\n",
    "    output_np = output.numpy()\n",
    "\n",
    "    # Convert the output prediction to binary format and multiply by 255\n",
    "    binary_output = (output_np >= 0.1).astype(np.uint8)[0] * 255\n",
    "\n",
    "    # Display the input image, label, and binary prediction using OpenCV\n",
    "    cv2.imshow(\"Input Image\", cv2.resize(input_image, (512, 512)))\n",
    "    cv2.imshow(\"Label Image\", cv2.resize(label_image, (512, 512)))\n",
    "    cv2.imshow(\"Model Prediction (Binary)\", cv2.resize(binary_output, (512, 512)))\n",
    "    cv2.imshow(\"Correctness Image\", cv2.resize((np.multiply(binary_output, label_image) + np.multiply((255 - binary_output), (255 - label_image))) * 255, (512, 512)))\n",
    "    \n",
    "    print(np.sum(np.multiply(binary_output, label_image) + np.multiply((255 - binary_output), (255 - label_image))) / 64 / 64)\n",
    "    \n",
    "\n",
    "    # Wait for a key press and then close the OpenCV windows\n",
    "    cv2.waitKey(0)\n",
    "    cv2.destroyAllWindows()"
   ]
  }
 ],
 "metadata": {
  "kernelspec": {
   "display_name": "Python 3",
   "language": "python",
   "name": "python3"
  },
  "language_info": {
   "codemirror_mode": {
    "name": "ipython",
    "version": 3
   },
   "file_extension": ".py",
   "mimetype": "text/x-python",
   "name": "python",
   "nbconvert_exporter": "python",
   "pygments_lexer": "ipython3",
   "version": "3.11.5"
  }
 },
 "nbformat": 4,
 "nbformat_minor": 2
}
