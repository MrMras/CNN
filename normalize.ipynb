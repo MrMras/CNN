{
 "cells": [
  {
   "cell_type": "code",
   "execution_count": 6,
   "metadata": {},
   "outputs": [],
   "source": [
    "import numpy as np\n",
    "import matplotlib.pyplot as plt\n",
    "import nibabel as nib\n",
    "import os\n",
    "import cv2\n",
    "from functools import reduce\n",
    "import config"
   ]
  },
  {
   "cell_type": "code",
   "execution_count": 2,
   "metadata": {},
   "outputs": [],
   "source": [
    "def findBordersHorizontal(img, border, side):\n",
    "    if side == \"l2r\":\n",
    "        for i in range(border):\n",
    "            if np.sum(img[:,i]) > 0:\n",
    "                return i\n",
    "    elif side == \"r2l\":\n",
    "        for i in range(img.shape[1] - 1, border, -1):\n",
    "            if np.sum(img[:,i]) > 0:\n",
    "                return i\n",
    "    else:\n",
    "        raise ValueError\n",
    "    return border\n",
    "    \n",
    "def findBordersVertical(img, border, side):\n",
    "    if side == \"t2b\":\n",
    "        for i in range(border):\n",
    "            if np.sum(img[i]) > 0:\n",
    "                return i\n",
    "    elif side == \"b2t\":\n",
    "        for i in range(img.shape[0] - 1, border, -1):\n",
    "            if np.sum(img[i]) > 0:\n",
    "                return i\n",
    "    else:\n",
    "        raise ValueError\n",
    "    return border\n",
    "\n",
    "\n",
    "def findBorders(img, bordLeft, bordRight, bordTop, bordBottom):\n",
    "    bordLeft = findBordersHorizontal(img, bordLeft, \"l2r\")\n",
    "    bordRight = findBordersHorizontal(img, bordRight, \"r2l\")\n",
    "    bordTop = findBordersVertical(img, bordTop, \"t2b\")\n",
    "    bordBottom = findBordersVertical(img, bordBottom, \"b2t\")\n",
    "    return bordLeft, bordRight, bordTop, bordBottom\n"
   ]
  },
  {
   "cell_type": "code",
   "execution_count": 11,
   "metadata": {},
   "outputs": [
    {
     "name": "stdout",
     "output_type": "stream",
     "text": [
      "116 1162 283 1059\n",
      "Initial shape: (776, 1046)\n",
      "Extras : (8, 22)\n",
      "New shape: (768, 1024)\n"
     ]
    }
   ],
   "source": [
    "# path to the folder with already segmented data\n",
    "path_folder = \"./preparations/data/outdata/\"\n",
    "\n",
    "# get a list of paths to the files\n",
    "dirs = os.listdir(path_folder)\n",
    "path_files = [os.path.join(path_folder, x) for x in dirs]\n",
    "\n",
    "# find borders for a stack of pictures\n",
    "fl = 0\n",
    "for x in path_files:\n",
    "    img = cv2.imread(x, cv2.IMREAD_GRAYSCALE)\n",
    "    if fl == 0:\n",
    "        bordLeft, bordRight, bordTop, bordBottom = findBorders(img, img.shape[0] - 1, 0, img.shape[1] - 1, 0)\n",
    "        bordLeftTmp, bordRightTmp, bordTopTmp, bordBottomTmp = bordLeft, bordRight, bordTop, bordBottom\n",
    "        fl += 1\n",
    "    else:\n",
    "        bordLeftTmp, bordRightTmp, bordTopTmp, bordBottomTmp = findBorders(img, bordLeft, bordRight, bordTop, bordBottom)\n",
    "\n",
    "    bordLeft = min(bordLeft, bordLeftTmp)\n",
    "    bordRight = max(bordRight, bordRightTmp)\n",
    "    bordTop = min(bordTop, bordTopTmp)\n",
    "    bordBottom = max(bordBottom, bordBottomTmp)\n",
    "\n",
    "print(bordLeft, bordRight, bordTop, bordBottom)\n",
    "\n",
    "horizontal = bordRight - bordLeft\n",
    "vertical = bordBottom - bordTop\n",
    "\n",
    "print(\"Initial shape: ({0}, {1})\".format(vertical, horizontal))\n",
    "\n",
    "horizontalExtra = horizontal % config.WIDTH\n",
    "verticalExtra = vertical % config.HEIGHT\n",
    "\n",
    "print(\"Extras : ({0}, {1})\".format(verticalExtra, horizontalExtra))\n",
    "\n",
    "bordLeft = int(bordLeft + horizontalExtra / 2)\n",
    "bordRight = int(bordRight - horizontalExtra / 2)\n",
    "\n",
    "bordTop = int(bordTop + verticalExtra / 2)\n",
    "bordBottom = int(bordBottom - verticalExtra / 2)\n",
    "\n",
    "horizontal = bordRight - bordLeft\n",
    "vertical = bordBottom - bordTop\n",
    "\n",
    "print(\"New shape: ({0}, {1})\".format(vertical, horizontal))"
   ]
  },
  {
   "cell_type": "code",
   "execution_count": 12,
   "metadata": {},
   "outputs": [],
   "source": [
    "def cut_data(in_path, out_path, borders):\n",
    "    bordTop, bordLeft = borders\n",
    "    ind = 10000000\n",
    "    for x in os.listdir(in_path):\n",
    "        for i in range(vertical // config.HEIGHT):\n",
    "            for j in range(horizontal // config.WIDTH):\n",
    "                cv2.imwrite(os.path.join(out_path, \"img_\" + str(ind) + \".png\"), cv2.imread(os.path.join(in_path, x), cv2.IMREAD_GRAYSCALE)[bordTop  + config.HEIGHT * i: bordTop  + config.HEIGHT * (i + 1), bordLeft + config.WIDTH * j : bordLeft + config.WIDTH * (j + 1)])\n",
    "                ind += 1\n",
    "\n",
    "path_folder1 = \"./preparations/data/outdata/\"\n",
    "path_folder1_cut = \"./dataset/outdata/\"\n",
    "\n",
    "path_folder2 = \"./preparations/data/indata/\"\n",
    "path_folder2_cut = \"./dataset/indata/\"\n",
    "\n",
    "cut_data(path_folder1, path_folder1_cut, (bordTop, bordLeft))\n",
    "cut_data(path_folder2, path_folder2_cut, (bordTop, bordLeft))\n",
    "\n",
    "\n"
   ]
  },
  {
   "cell_type": "code",
   "execution_count": 7,
   "metadata": {},
   "outputs": [
    {
     "name": "stdout",
     "output_type": "stream",
     "text": [
      "(768, 1024)\n"
     ]
    }
   ],
   "source": [
    "print(cv2.imread(path_folder1_cut + os.listdir(path_folder1_cut)[0], cv2.IMREAD_GRAYSCALE).shape)"
   ]
  }
 ],
 "metadata": {
  "kernelspec": {
   "display_name": "Python 3",
   "language": "python",
   "name": "python3"
  },
  "language_info": {
   "codemirror_mode": {
    "name": "ipython",
    "version": 3
   },
   "file_extension": ".py",
   "mimetype": "text/x-python",
   "name": "python",
   "nbconvert_exporter": "python",
   "pygments_lexer": "ipython3",
   "version": "3.11.5"
  },
  "orig_nbformat": 4
 },
 "nbformat": 4,
 "nbformat_minor": 2
}
