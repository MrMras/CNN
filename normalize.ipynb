{
 "cells": [
  {
   "cell_type": "code",
   "execution_count": 1,
   "metadata": {},
   "outputs": [],
   "source": [
    "import config\n",
    "import concurrent.futures\n",
    "import cv2\n",
    "import numpy as np\n",
    "import matplotlib.pyplot as plt\n",
    "import os\n",
    "from tqdm import tqdm"
   ]
  },
  {
   "cell_type": "code",
   "execution_count": 2,
   "metadata": {},
   "outputs": [],
   "source": [
    "def findBordersHorizontal(img, border, side):\n",
    "    if side == \"l2r\":\n",
    "        for i in range(border):\n",
    "            if np.sum(img[:,i]) > 0:\n",
    "                return i\n",
    "    elif side == \"r2l\":\n",
    "        for i in range(img.shape[1] - 1, border, -1):\n",
    "            if np.sum(img[:,i]) > 0:\n",
    "                return i\n",
    "    else:\n",
    "        raise ValueError\n",
    "    return border\n",
    "\n",
    "def findBordersVertical(img, border, side):\n",
    "    if side == \"t2b\":\n",
    "        for i in range(border):\n",
    "            if np.sum(img[i]) > 0:\n",
    "                return i\n",
    "    elif side == \"b2t\":\n",
    "        for i in range(img.shape[0] - 1, border, -1):\n",
    "            if np.sum(img[i]) > 0:\n",
    "                return i\n",
    "    else:\n",
    "        raise ValueError\n",
    "    return border\n",
    "\n",
    "\n",
    "def findBorders(img, bordLeft, bordRight, bordTop, bordBottom):\n",
    "    bordLeft = findBordersHorizontal(img, bordLeft, \"l2r\")\n",
    "    bordRight = findBordersHorizontal(img, bordRight, \"r2l\")\n",
    "    bordTop = findBordersVertical(img, bordTop, \"t2b\")\n",
    "    bordBottom = findBordersVertical(img, bordBottom, \"b2t\")\n",
    "    return bordLeft, bordRight, bordTop, bordBottom\n"
   ]
  },
  {
   "cell_type": "code",
   "execution_count": 3,
   "metadata": {},
   "outputs": [
    {
     "name": "stderr",
     "output_type": "stream",
     "text": [
      "Finding borders: 1340it [00:37, 35.30it/s]"
     ]
    },
    {
     "name": "stdout",
     "output_type": "stream",
     "text": [
      "116 1162 283 1059\n",
      "Initial shape: (776, 1046)\n",
      "Extras : (8, 22)\n",
      "New shape: (768, 1024)\n"
     ]
    },
    {
     "name": "stderr",
     "output_type": "stream",
     "text": [
      "\n"
     ]
    }
   ],
   "source": [
    "# Function to find borders for a single image\n",
    "def find_borders(img_path):\n",
    "    img = cv2.imread(img_path, cv2.IMREAD_GRAYSCALE)\n",
    "    return findBorders(img, img.shape[0] - 1, 0, img.shape[1] - 1, 0)\n",
    "\n",
    "# Function to merge borders from multiple images\n",
    "def merge_borders(borders):\n",
    "    bordLeft, bordRight, bordTop, bordBottom = borders[0]\n",
    "    for b in borders[1:]:\n",
    "        bordLeftTmp, bordRightTmp, bordTopTmp, bordBottomTmp = b\n",
    "        bordLeft = min(bordLeft, bordLeftTmp)\n",
    "        bordRight = max(bordRight, bordRightTmp)\n",
    "        bordTop = min(bordTop, bordTopTmp)\n",
    "        bordBottom = max(bordBottom, bordBottomTmp)\n",
    "    return bordLeft, bordRight, bordTop, bordBottom\n",
    "\n",
    "# path to the folder with already segmented data\n",
    "path_folder = \"./preparations/data/outdata/\"\n",
    "\n",
    "# get a list of paths to the files\n",
    "dirs = os.listdir(path_folder)\n",
    "path_files = [os.path.join(path_folder, x) for x in dirs]\n",
    "\n",
    "# Number of threads to use\n",
    "num_threads = min(len(path_files), 4)  # Adjust the number of threads as needed\n",
    "\n",
    "borders = []\n",
    "\n",
    "# Use ThreadPoolExecutor to parallelize the finding of borders\n",
    "with concurrent.futures.ThreadPoolExecutor(max_workers=num_threads) as executor:\n",
    "    # Submit tasks for each image to find borders concurrently\n",
    "    futures = [executor.submit(find_borders, path) for path in path_files]\n",
    "\n",
    "    # Collect results\n",
    "    for future in tqdm(concurrent.futures.as_completed(futures), \"Finding borders\"):\n",
    "        borders.append(future.result())\n",
    "\n",
    "# Merge borders from multiple images\n",
    "bordLeft, bordRight, bordTop, bordBottom = merge_borders(borders)\n",
    "\n",
    "print(bordLeft, bordRight, bordTop, bordBottom)\n",
    "\n",
    "horizontal = bordRight - bordLeft\n",
    "vertical = bordBottom - bordTop\n",
    "\n",
    "print(\"Initial shape: ({0}, {1})\".format(vertical, horizontal))\n",
    "\n",
    "horizontalExtra = horizontal % config.WIDTH\n",
    "verticalExtra = vertical % config.HEIGHT\n",
    "\n",
    "print(\"Extras : ({0}, {1})\".format(verticalExtra, horizontalExtra))\n",
    "\n",
    "bordLeft = int(bordLeft + horizontalExtra / 2)\n",
    "bordRight = int(bordRight - horizontalExtra / 2)\n",
    "\n",
    "bordTop = int(bordTop + verticalExtra / 2)\n",
    "bordBottom = int(bordBottom - verticalExtra / 2)\n",
    "\n",
    "horizontal = bordRight - bordLeft\n",
    "vertical = bordBottom - bordTop\n",
    "\n",
    "print(\"New shape: ({0}, {1})\".format(vertical, horizontal))\n"
   ]
  },
  {
   "cell_type": "code",
   "execution_count": 6,
   "metadata": {},
   "outputs": [],
   "source": [
    "def cut_data(in_path1, in_path2, out_path1, out_path2, borders):\n",
    "    # Extracting border coordinates\n",
    "    bordTop, bordLeft = borders\n",
    "    # Starting index for saving images\n",
    "    ind = 1000000\n",
    "    # List of files in input paths\n",
    "    files_in1 = os.listdir(in_path1)\n",
    "    files_in2 = os.listdir(in_path2)\n",
    "    # List to store mean intensities of processed images\n",
    "    sizes = []\n",
    "\n",
    "    # Calculating the number of splits vertically and horizontally\n",
    "    vertical_split = vertical // config.HEIGHT\n",
    "    horizontal_split = horizontal // config.WIDTH\n",
    "         \n",
    "    # Calculating grid size\n",
    "    grid_size = vertical_split * horizontal_split\n",
    "    \n",
    "    # Iterating through each grid cell and processing images\n",
    "    for i in tqdm(range(vertical_split * horizontal_split), desc=\"Processing\"):\n",
    "        # Calculating the current horizontal index within the grid\n",
    "        j = i % vertical_split\n",
    "        k = i // vertical_split\n",
    "        # Iterating through files in the second input path\n",
    "        for x in files_in2:\n",
    "            # Extracting a region of interest from the first input path\n",
    "            img_tmp1 = cv2.imread(os.path.join(in_path1, x), cv2.IMREAD_GRAYSCALE)[bordTop  + config.HEIGHT * k: bordTop  + config.HEIGHT * (k + 1), bordLeft + config.WIDTH * j : bordLeft + config.WIDTH * (j + 1)]\n",
    "            # Calculating and storing the mean intensity of the region\n",
    "            sizes.append(np.mean(img_tmp1))\n",
    "    \n",
    "    # Calculating the median of the mean intensities\n",
    "    med = np.median(sizes)\n",
    "    print(med)\n",
    "    \n",
    "    # Iterating through each set of images and writing selected ones\n",
    "    for i in tqdm(range(len(sizes) // config.NUM_PICS - 1), \"Writting images\"):\n",
    "        # Checking if the mean intensity of the set is greater than or equal to the median\n",
    "        if np.sum(sizes[config.NUM_PICS * i : (config.NUM_PICS + 1) * i]) / config.NUM_PICS >= med:\n",
    "            # Extracting indices for the selected set of images\n",
    "            pic_number = [j % grid_size for j in range(config.NUM_PICS * i, (config.NUM_PICS + 1)*i - 1)]\n",
    "            vertical_number = [(j // grid_size) // horizontal_split for j in range(config.NUM_PICS * i, (config.NUM_PICS + 1) * i)]\n",
    "            horizontal_number = [(j // grid_size) % horizontal_split for j in range(config.NUM_PICS * i, (config.NUM_PICS + 1) * i)]\n",
    "\n",
    "            # Iterating through images in the selected set and writing them\n",
    "            for k in range(config.NUM_PICS):\n",
    "                img_tmp1 = cv2.imread(os.path.join(in_path1, files_in1[pic_number[k]]), cv2.IMREAD_GRAYSCALE)[bordTop  + config.HEIGHT * vertical_number[k]: bordTop  + config.HEIGHT * (vertical_number[k] + 1), bordLeft + config.WIDTH * horizontal_number[k] : bordLeft + config.WIDTH * (horizontal_number[k] + 1)]\n",
    "                img_tmp2 = cv2.imread(os.path.join(in_path2, files_in2[pic_number[k]]), cv2.IMREAD_GRAYSCALE)[bordTop  + config.HEIGHT * vertical_number[k]: bordTop  + config.HEIGHT * (vertical_number[k] + 1), bordLeft + config.WIDTH * horizontal_number[k] : bordLeft + config.WIDTH * (horizontal_number[k] + 1)]\n",
    "                cv2.imwrite(os.path.join(out_path1, f\"img_{ind}_{k}.png\"), img_tmp1)\n",
    "                cv2.imwrite(os.path.join(out_path2, f\"img_{ind}_{k}.png\"), img_tmp2)\n",
    "            ind += 1"
   ]
  },
  {
   "cell_type": "code",
   "execution_count": 7,
   "metadata": {},
   "outputs": [
    {
     "name": "stderr",
     "output_type": "stream",
     "text": [
      "Processing: 100%|██████████| 192/192 [39:36<00:00, 12.38s/it]\n"
     ]
    },
    {
     "name": "stdout",
     "output_type": "stream",
     "text": [
      "0.0\n"
     ]
    },
    {
     "name": "stderr",
     "output_type": "stream",
     "text": [
      "Writting images:   0%|          | 0/64319 [00:00<?, ?it/s]\n"
     ]
    },
    {
     "ename": "IndexError",
     "evalue": "list index out of range",
     "output_type": "error",
     "traceback": [
      "\u001b[1;31m---------------------------------------------------------------------------\u001b[0m",
      "\u001b[1;31mIndexError\u001b[0m                                Traceback (most recent call last)",
      "Cell \u001b[1;32mIn[7], line 24\u001b[0m\n\u001b[0;32m     21\u001b[0m path_folder2 \u001b[38;5;241m=\u001b[39m \u001b[38;5;124m\"\u001b[39m\u001b[38;5;124m./preparations/data/indata/\u001b[39m\u001b[38;5;124m\"\u001b[39m\n\u001b[0;32m     22\u001b[0m path_folder2_cut \u001b[38;5;241m=\u001b[39m \u001b[38;5;124m\"\u001b[39m\u001b[38;5;124m./dataset/indata/\u001b[39m\u001b[38;5;124m\"\u001b[39m\n\u001b[1;32m---> 24\u001b[0m \u001b[43mcut_data\u001b[49m\u001b[43m(\u001b[49m\u001b[43mpath_folder1\u001b[49m\u001b[43m,\u001b[49m\u001b[43m \u001b[49m\u001b[43mpath_folder2\u001b[49m\u001b[43m,\u001b[49m\u001b[43m \u001b[49m\u001b[43mpath_folder1_cut\u001b[49m\u001b[43m,\u001b[49m\u001b[43m \u001b[49m\u001b[43mpath_folder2_cut\u001b[49m\u001b[43m,\u001b[49m\u001b[43m \u001b[49m\u001b[43m(\u001b[49m\u001b[43mbordTop\u001b[49m\u001b[43m,\u001b[49m\u001b[43m \u001b[49m\u001b[43mbordLeft\u001b[49m\u001b[43m)\u001b[49m\u001b[43m)\u001b[49m\n",
      "Cell \u001b[1;32mIn[6], line 46\u001b[0m, in \u001b[0;36mcut_data\u001b[1;34m(in_path1, in_path2, out_path1, out_path2, borders)\u001b[0m\n\u001b[0;32m     44\u001b[0m \u001b[38;5;66;03m# Iterating through images in the selected set and writing them\u001b[39;00m\n\u001b[0;32m     45\u001b[0m \u001b[38;5;28;01mfor\u001b[39;00m k \u001b[38;5;129;01min\u001b[39;00m \u001b[38;5;28mrange\u001b[39m(config\u001b[38;5;241m.\u001b[39mNUM_PICS):\n\u001b[1;32m---> 46\u001b[0m     img_tmp1 \u001b[38;5;241m=\u001b[39m cv2\u001b[38;5;241m.\u001b[39mimread(os\u001b[38;5;241m.\u001b[39mpath\u001b[38;5;241m.\u001b[39mjoin(in_path1, files_in1[\u001b[43mpic_number\u001b[49m\u001b[43m[\u001b[49m\u001b[43mk\u001b[49m\u001b[43m]\u001b[49m]), cv2\u001b[38;5;241m.\u001b[39mIMREAD_GRAYSCALE)[bordTop  \u001b[38;5;241m+\u001b[39m config\u001b[38;5;241m.\u001b[39mHEIGHT \u001b[38;5;241m*\u001b[39m vertical_number[k]: bordTop  \u001b[38;5;241m+\u001b[39m config\u001b[38;5;241m.\u001b[39mHEIGHT \u001b[38;5;241m*\u001b[39m (vertical_number[k] \u001b[38;5;241m+\u001b[39m \u001b[38;5;241m1\u001b[39m), bordLeft \u001b[38;5;241m+\u001b[39m config\u001b[38;5;241m.\u001b[39mWIDTH \u001b[38;5;241m*\u001b[39m horizontal_number[k] : bordLeft \u001b[38;5;241m+\u001b[39m config\u001b[38;5;241m.\u001b[39mWIDTH \u001b[38;5;241m*\u001b[39m (horizontal_number[k] \u001b[38;5;241m+\u001b[39m \u001b[38;5;241m1\u001b[39m)]\n\u001b[0;32m     47\u001b[0m     img_tmp2 \u001b[38;5;241m=\u001b[39m cv2\u001b[38;5;241m.\u001b[39mimread(os\u001b[38;5;241m.\u001b[39mpath\u001b[38;5;241m.\u001b[39mjoin(in_path2, files_in2[pic_number[k]]), cv2\u001b[38;5;241m.\u001b[39mIMREAD_GRAYSCALE)[bordTop  \u001b[38;5;241m+\u001b[39m config\u001b[38;5;241m.\u001b[39mHEIGHT \u001b[38;5;241m*\u001b[39m vertical_number[k]: bordTop  \u001b[38;5;241m+\u001b[39m config\u001b[38;5;241m.\u001b[39mHEIGHT \u001b[38;5;241m*\u001b[39m (vertical_number[k] \u001b[38;5;241m+\u001b[39m \u001b[38;5;241m1\u001b[39m), bordLeft \u001b[38;5;241m+\u001b[39m config\u001b[38;5;241m.\u001b[39mWIDTH \u001b[38;5;241m*\u001b[39m horizontal_number[k] : bordLeft \u001b[38;5;241m+\u001b[39m config\u001b[38;5;241m.\u001b[39mWIDTH \u001b[38;5;241m*\u001b[39m (horizontal_number[k] \u001b[38;5;241m+\u001b[39m \u001b[38;5;241m1\u001b[39m)]\n\u001b[0;32m     48\u001b[0m     cv2\u001b[38;5;241m.\u001b[39mimwrite(os\u001b[38;5;241m.\u001b[39mpath\u001b[38;5;241m.\u001b[39mjoin(out_path1, \u001b[38;5;124mf\u001b[39m\u001b[38;5;124m\"\u001b[39m\u001b[38;5;124mimg_\u001b[39m\u001b[38;5;132;01m{\u001b[39;00mind\u001b[38;5;132;01m}\u001b[39;00m\u001b[38;5;124m_\u001b[39m\u001b[38;5;132;01m{\u001b[39;00mk\u001b[38;5;132;01m}\u001b[39;00m\u001b[38;5;124m.png\u001b[39m\u001b[38;5;124m\"\u001b[39m), img_tmp1)\n",
      "\u001b[1;31mIndexError\u001b[0m: list index out of range"
     ]
    }
   ],
   "source": [
    "# Define the directory path\n",
    "base_dir = './dataset'\n",
    "\n",
    "# Create the 'dataset' folder\n",
    "if not os.path.exists(base_dir):\n",
    "    os.makedirs(base_dir)\n",
    "\n",
    "# Create the 'indata' folder inside 'dataset'\n",
    "indata_dir = os.path.join(base_dir, 'indata')\n",
    "if not os.path.exists(indata_dir):\n",
    "    os.makedirs(indata_dir)\n",
    "\n",
    "# Create the 'outdata' folder inside 'dataset'\n",
    "outdata_dir = os.path.join(base_dir, 'outdata')\n",
    "if not os.path.exists(outdata_dir):\n",
    "    os.makedirs(outdata_dir)\n",
    "\n",
    "path_folder1 = \"./preparations/data/outdata/\"\n",
    "path_folder1_cut = \"./dataset/outdata/\"\n",
    "\n",
    "path_folder2 = \"./preparations/data/indata/\"\n",
    "path_folder2_cut = \"./dataset/indata/\"\n",
    "\n",
    "cut_data(path_folder1, path_folder2, path_folder1_cut, path_folder2_cut, (bordTop, bordLeft))\n"
   ]
  },
  {
   "cell_type": "markdown",
   "metadata": {},
   "source": []
  }
 ],
 "metadata": {
  "kernelspec": {
   "display_name": "Python 3",
   "language": "python",
   "name": "python3"
  },
  "language_info": {
   "codemirror_mode": {
    "name": "ipython",
    "version": 3
   },
   "file_extension": ".py",
   "mimetype": "text/x-python",
   "name": "python",
   "nbconvert_exporter": "python",
   "pygments_lexer": "ipython3",
   "version": "3.11.7"
  },
  "orig_nbformat": 4
 },
 "nbformat": 4,
 "nbformat_minor": 2
}
