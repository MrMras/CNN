{
 "cells": [
  {
   "cell_type": "code",
   "execution_count": 1,
   "metadata": {},
   "outputs": [],
   "source": [
    "import numpy as np\n",
    "import matplotlib.pyplot as plt\n",
    "import nibabel as nib\n",
    "import os\n",
    "import cv2\n",
    "from functools import reduce"
   ]
  },
  {
   "cell_type": "code",
   "execution_count": null,
   "metadata": {},
   "outputs": [],
   "source": [
    "# img = nib.load(\"./Batch1/Segmentation_1_tl.nii\")\n",
    "# a = np.array(img.dataobj) # 1 is main, 2 is background \n",
    "# arr_norm = np.flip(np.moveaxis(np.add(a, -2) * -1, [2, 1], [0, -2]), 2) # 0 is background, 1 is main\n",
    "# print(\"Shape:\", arr_norm.shape)\n",
    "# print(np.sum(arr_norm) / reduce(lambda x, y: x * y, arr_norm.shape))\n",
    "# print(np.unique(arr_norm[0] * 255))\n",
    "# plt.imshow(arr_norm[0], interpolation='nearest')\n",
    "# plt.show()\n",
    "# cv2.imwrite(\"name.png\", arr_norm[0] * 255)"
   ]
  },
  {
   "cell_type": "code",
   "execution_count": 7,
   "metadata": {},
   "outputs": [],
   "source": [
    "for j in range(4):\n",
    "    img_tl = nib.load(\"./preparations/Segmentations(NIFTI)/Segmentation_Vol\" + str(j + 1) + \"_topLeft.nii\")\n",
    "    img_tr = nib.load(\"./preparations/Segmentations(NIFTI)/Segmentation_Vol\" + str(j + 1) + \"_topRight.nii\")\n",
    "    img_bl = nib.load(\"./preparations/Segmentations(NIFTI)/Segmentation_Vol\" + str(j + 1) + \"_bottomLeft.nii\")\n",
    "    img_br = nib.load(\"./preparations/Segmentations(NIFTI)/Segmentation_Vol\" + str(j + 1) + \"_bottomRight.nii\")\n",
    "\n",
    "    a_tl = np.flip(np.moveaxis(np.array(img_tl.dataobj), [2, 1], [0, -2]), 2)\n",
    "    a_tr = np.flip(np.moveaxis(np.array(img_tr.dataobj), [2, 1], [0, -2]), 2)\n",
    "    a_bl = np.flip(np.moveaxis(np.array(img_bl.dataobj), [2, 1], [0, -2]), 2)\n",
    "    a_br = np.flip(np.moveaxis(np.array(img_br.dataobj), [2, 1], [0, -2]), 2)\n",
    "\n",
    "    for i in range(a_tl.shape[0]):\n",
    "        bottom_img = np.concatenate((a_bl[i], a_br[i]), axis=1) * 255\n",
    "        top_img = np.concatenate((a_tl[i], a_tr[i]), axis=1) * 255\n",
    "        final = np.concatenate((bottom_img, top_img), axis=0)\n",
    "        cv2.imwrite(\"./data/outdata/img_\" + str(1000000 + i + 335 * j) + \".png\", np.flip(final, axis=0))"
   ]
  },
  {
   "cell_type": "code",
   "execution_count": null,
   "metadata": {},
   "outputs": [],
   "source": [
    "folder_path = \"./New folder/\"\n",
    "dirs = os.listdir(folder_path)\n",
    "i = 1000000\n",
    "for x in dirs:\n",
    "    os.rename(os.path.join(folder_path, x), os.path.join(\"./indata_tif/\", \"img_\" + str(i) + \".tif\"))\n",
    "    i += 1\n",
    "\n",
    "folder_path = \"./indata_tif/\"\n",
    "dirs = os.listdir(folder_path)\n",
    "\n",
    "for x in dirs:\n",
    "    cv2.imwrite(\"./indata/\" + x[:-3] + \"png\", cv2.imread(os.path.join(folder_path, x)))"
   ]
  },
  {
   "cell_type": "code",
   "execution_count": 8,
   "metadata": {},
   "outputs": [],
   "source": [
    "# Specify the folder containing the pictures\n",
    "folder_path = \"./data/outdata/\"\n",
    "\n",
    "# Get the list of picture files\n",
    "picture_files = os.listdir(folder_path)\n",
    "\n",
    "# Check if there are pictures in the folder\n",
    "if picture_files:\n",
    "    # Get the first picture's path to extract width and height\n",
    "    first_picture_path = os.path.join(folder_path, picture_files[0])\n",
    "\n",
    "    # Read the first picture to get its dimensions\n",
    "    first_picture = cv2.imread(first_picture_path)\n",
    "    height, width, _ = first_picture.shape\n",
    "\n",
    "    # Create a VideoWriter object to save the video\n",
    "    fourcc = cv2.VideoWriter_fourcc(*'mp4v')\n",
    "    output_video = cv2.VideoWriter('indata_video.mp4', fourcc, 10, (width, height))\n",
    "\n",
    "    # Iterate through the pictures and add them to the video\n",
    "    for picture_file in picture_files:\n",
    "        picture_path = os.path.join(folder_path, picture_file)\n",
    "        frame = cv2.imread(picture_path)\n",
    "        output_video.write(frame)\n",
    "\n",
    "    # Release the VideoWriter when done\n",
    "    output_video.release()\n",
    "\n",
    "else:\n",
    "    print(\"No pictures found in the folder.\")\n"
   ]
  }
 ],
 "metadata": {
  "kernelspec": {
   "display_name": "Python 3",
   "language": "python",
   "name": "python3"
  },
  "language_info": {
   "codemirror_mode": {
    "name": "ipython",
    "version": 3
   },
   "file_extension": ".py",
   "mimetype": "text/x-python",
   "name": "python",
   "nbconvert_exporter": "python",
   "pygments_lexer": "ipython3",
   "version": "3.11.5"
  },
  "orig_nbformat": 4
 },
 "nbformat": 4,
 "nbformat_minor": 2
}
